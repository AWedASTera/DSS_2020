{
 "cells": [
  {
   "cell_type": "code",
   "execution_count": 1,
   "metadata": {},
   "outputs": [],
   "source": [
    "import re\n",
    "from pymystem3 import Mystem\n",
    "from razdel import sentenize, tokenize\n",
    "from navec import Navec\n",
    "from slovnet import Syntax"
   ]
  },
  {
   "cell_type": "code",
   "execution_count": 2,
   "metadata": {},
   "outputs": [
    {
     "name": "stdout",
     "output_type": "stream",
     "text": [
      "Requirement already satisfied: pymystem3 in c:\\users\\gleb3\\appdata\\local\\programs\\python\\python37\\lib\\site-packages (0.2.0)\n",
      "Requirement already satisfied: requests in c:\\users\\gleb3\\appdata\\local\\programs\\python\\python37\\lib\\site-packages (from pymystem3) (2.22.0)\n",
      "Requirement already satisfied: certifi>=2017.4.17 in c:\\users\\gleb3\\appdata\\local\\programs\\python\\python37\\lib\\site-packages (from requests->pymystem3) (2020.6.20)\n",
      "Requirement already satisfied: chardet<3.1.0,>=3.0.2 in c:\\users\\gleb3\\appdata\\local\\programs\\python\\python37\\lib\\site-packages (from requests->pymystem3) (3.0.4)\n",
      "Requirement already satisfied: idna<2.9,>=2.5 in c:\\users\\gleb3\\appdata\\local\\programs\\python\\python37\\lib\\site-packages (from requests->pymystem3) (2.8)\n",
      "Requirement already satisfied: urllib3!=1.25.0,!=1.25.1,<1.26,>=1.21.1 in c:\\users\\gleb3\\appdata\\local\\programs\\python\\python37\\lib\\site-packages (from requests->pymystem3) (1.25.10)\n"
     ]
    }
   ],
   "source": [
    "# ! pip install ipymarkup\n",
    "! pip install pymystem3"
   ]
  },
  {
   "cell_type": "code",
   "execution_count": 2,
   "metadata": {},
   "outputs": [],
   "source": [
    "mystem = Mystem()"
   ]
  },
  {
   "cell_type": "code",
   "execution_count": 3,
   "metadata": {},
   "outputs": [],
   "source": [
    "navec = Navec.load('data/navec_news_v1_1B_250K_300d_100q.tar')\n",
    "syntax = Syntax.load('data/slovnet_syntax_news_v1.tar').navec(navec)"
   ]
  },
  {
   "cell_type": "code",
   "execution_count": 4,
   "metadata": {},
   "outputs": [],
   "source": [
    "text =\"Я люблю  Лису. И Кобасу \""
   ]
  },
  {
   "cell_type": "code",
   "execution_count": 5,
   "metadata": {},
   "outputs": [],
   "source": [
    "text = re.sub(\"\\\\s+\", \" \",text)"
   ]
  },
  {
   "cell_type": "code",
   "execution_count": 185,
   "metadata": {},
   "outputs": [],
   "source": [
    "chunk = []\n",
    "for sent in sentenize(text):\n",
    "    tokens = []\n",
    "    for token in tokens:\n",
    "        tokens.append(tokenize(sent.text).text)\n",
    "    chunk.append(tokens)"
   ]
  },
  {
   "cell_type": "code",
   "execution_count": 208,
   "metadata": {},
   "outputs": [
    {
     "data": {
      "text/plain": [
       "['Я люблю Лису']"
      ]
     },
     "execution_count": 208,
     "metadata": {},
     "output_type": "execute_result"
    }
   ],
   "source": [
    "sentences"
   ]
  },
  {
   "cell_type": "code",
   "execution_count": 211,
   "metadata": {},
   "outputs": [],
   "source": [
    "sentences = [s.text for s in sentenize(text)]\n",
    "chunk = [tokenize(s) for s in sentences]"
   ]
  },
  {
   "cell_type": "code",
   "execution_count": 201,
   "metadata": {},
   "outputs": [
    {
     "data": {
      "text/plain": [
       "[<generator object find_substrings at 0x00000171687B6048>]"
      ]
     },
     "execution_count": 201,
     "metadata": {},
     "output_type": "execute_result"
    }
   ],
   "source": [
    "chunk"
   ]
  },
  {
   "cell_type": "code",
   "execution_count": 187,
   "metadata": {},
   "outputs": [],
   "source": [
    "markup  = next(syntax.map(chunk))"
   ]
  },
  {
   "cell_type": "code",
   "execution_count": null,
   "metadata": {},
   "outputs": [],
   "source": []
  },
  {
   "cell_type": "code",
   "execution_count": 188,
   "metadata": {},
   "outputs": [],
   "source": [
    "words = [token.text for token in markup.tokens]"
   ]
  },
  {
   "cell_type": "code",
   "execution_count": 212,
   "metadata": {},
   "outputs": [],
   "source": [
    "deps = []\n",
    "for token in markup.tokens:\n",
    "    source = int(token.head_id) - 1\n",
    "    target = int(token.id) - 1\n",
    "    if source >= 0 and source != target:  # skip root, loops\n",
    "        deps.append([source, target, token.rel])"
   ]
  },
  {
   "cell_type": "code",
   "execution_count": 213,
   "metadata": {},
   "outputs": [
    {
     "data": {
      "text/plain": [
       "[[1, 0, 'nsubj'], [1, 2, 'obj']]"
      ]
     },
     "execution_count": 213,
     "metadata": {},
     "output_type": "execute_result"
    }
   ],
   "source": [
    "deps"
   ]
  },
  {
   "cell_type": "code",
   "execution_count": 215,
   "metadata": {},
   "outputs": [],
   "source": [
    "a = [{mystem.lemmatize(words[dep[-2]])[0] : dep[:len(dep) - 2]} for dep in deps if 'obj' in dep] \n",
    "\n",
    "# for dep in deps:\n",
    "#     if 'obj' in dep:\n",
    "#         obj = words[dep[-2]]\n",
    "#         if obj[0].isupper():\n",
    "#             obj_to_nearest_connection[mystem.lemmatize(obj)[0]] = dep[:len(dep) - 2]"
   ]
  },
  {
   "cell_type": "code",
   "execution_count": 216,
   "metadata": {},
   "outputs": [
    {
     "data": {
      "text/plain": [
       "[{'лиса': [1]}]"
      ]
     },
     "execution_count": 216,
     "metadata": {},
     "output_type": "execute_result"
    }
   ],
   "source": [
    "a"
   ]
  },
  {
   "cell_type": "code",
   "execution_count": 95,
   "metadata": {},
   "outputs": [
    {
     "data": {
      "text/plain": [
       "{'лиса': [11]}"
      ]
     },
     "execution_count": 95,
     "metadata": {},
     "output_type": "execute_result"
    }
   ],
   "source": [
    "obj_to_nearest_connection"
   ]
  },
  {
   "cell_type": "code",
   "execution_count": 73,
   "metadata": {},
   "outputs": [
    {
     "data": {
      "text/plain": [
       "{'лиса': [11]}"
      ]
     },
     "execution_count": 73,
     "metadata": {},
     "output_type": "execute_result"
    }
   ],
   "source": [
    "obj_to_nearest_connection"
   ]
  },
  {
   "cell_type": "code",
   "execution_count": 59,
   "metadata": {},
   "outputs": [],
   "source": [
    "def is_values_lower(source, target):\n",
    "    for v in source:\n",
    "        for d in list(target):\n",
    "            if v > d: return False\n",
    "    return True"
   ]
  },
  {
   "cell_type": "code",
   "execution_count": 60,
   "metadata": {},
   "outputs": [],
   "source": [
    "for key, value in obj_to_nearest_connection.items():\n",
    "    for dep in deps:\n",
    "        dep = dep[:len(dep) - 1]\n",
    "        is_intesected = set(value).intersection(set(dep))\n",
    "        if is_intesected and is_values_lower(value, is_intesected) and dep[0] == value[0]:\n",
    "            value.extend(dep)"
   ]
  },
  {
   "cell_type": "code",
   "execution_count": 908,
   "metadata": {},
   "outputs": [
    {
     "data": {
      "text/plain": [
       "{'лисица': [3, 3, 2, 3, 4], 'телка': [9, 9, 5, 9, 7, 9, 8, 9, 10]}"
      ]
     },
     "execution_count": 908,
     "metadata": {},
     "output_type": "execute_result"
    }
   ],
   "source": [
    "obj_to_nearest_connection"
   ]
  },
  {
   "cell_type": "code",
   "execution_count": 909,
   "metadata": {},
   "outputs": [],
   "source": [
    "for key, value in obj_to_nearest_connection.items():\n",
    "    obj_to_nearest_connection[key] = list(set(value))"
   ]
  },
  {
   "cell_type": "code",
   "execution_count": 910,
   "metadata": {},
   "outputs": [
    {
     "data": {
      "text/plain": [
       "{'лисица': [2, 3, 4], 'телка': [5, 7, 8, 9, 10]}"
      ]
     },
     "execution_count": 910,
     "metadata": {},
     "output_type": "execute_result"
    }
   ],
   "source": [
    "obj_to_nearest_connection"
   ]
  },
  {
   "cell_type": "code",
   "execution_count": 911,
   "metadata": {},
   "outputs": [],
   "source": [
    "arr = text.split(\" \")"
   ]
  },
  {
   "cell_type": "code",
   "execution_count": 912,
   "metadata": {},
   "outputs": [],
   "source": [
    "for key, value in obj_to_nearest_connection.items():\n",
    "    str = ''\n",
    "    for v in value:\n",
    "        str += arr[v] +' '\n",
    "    \n",
    "    obj_to_nearest_connection[key] = str"
   ]
  },
  {
   "cell_type": "code",
   "execution_count": 913,
   "metadata": {},
   "outputs": [
    {
     "data": {
      "text/plain": [
       "{'лисица': 'что люблю Лисицу, ', 'телка': 'и этом не люблю Тёлок '}"
      ]
     },
     "execution_count": 913,
     "metadata": {},
     "output_type": "execute_result"
    }
   ],
   "source": [
    "obj_to_nearest_connection"
   ]
  },
  {
   "cell_type": "code",
   "execution_count": null,
   "metadata": {},
   "outputs": [],
   "source": []
  },
  {
   "cell_type": "code",
   "execution_count": null,
   "metadata": {},
   "outputs": [],
   "source": []
  }
 ],
 "metadata": {
  "kernelspec": {
   "display_name": "Python 3",
   "language": "python",
   "name": "python3"
  },
  "language_info": {
   "codemirror_mode": {
    "name": "ipython",
    "version": 3
   },
   "file_extension": ".py",
   "mimetype": "text/x-python",
   "name": "python",
   "nbconvert_exporter": "python",
   "pygments_lexer": "ipython3",
   "version": "3.7.4"
  }
 },
 "nbformat": 4,
 "nbformat_minor": 4
}
